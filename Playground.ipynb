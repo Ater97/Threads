{
  "nbformat": 4,
  "nbformat_minor": 0,
  "metadata": {
    "colab": {
      "name": "Untitled4.ipynb",
      "version": "0.3.2",
      "provenance": [],
      "collapsed_sections": [],
      "include_colab_link": true
    },
    "kernelspec": {
      "name": "python3",
      "display_name": "Python 3"
    }
  },
  "cells": [
    {
      "cell_type": "markdown",
      "metadata": {
        "id": "view-in-github",
        "colab_type": "text"
      },
      "source": [
        "<a href=\"https://colab.research.google.com/github/Ater97/Threads/blob/master/Playground.ipynb\" target=\"_parent\"><img src=\"https://colab.research.google.com/assets/colab-badge.svg\" alt=\"Open In Colab\"/></a>"
      ]
    },
    {
      "metadata": {
        "id": "eGV-J84c2w8p",
        "colab_type": "code",
        "colab": {
          "base_uri": "https://localhost:8080/",
          "height": 208
        },
        "outputId": "a98f1bb0-3c87-4ad2-d719-9502b5709a71"
      },
      "cell_type": "code",
      "source": [
        "from threading import Thread\n",
        "from time import sleep\n",
        "\n",
        "def threaded_function(arg):\n",
        "  for i in range(arg):\n",
        "    print (\"running\")\n",
        "    sleep(1)\n",
        "    \n",
        "if __name__ == \"__main__\":\n",
        "  thread = Thread(target = threaded_function, args = (10,))\n",
        "  thread.start()\n",
        "  thread.join()\n",
        "  print (\"thread finished...exiting\")"
      ],
      "execution_count": 4,
      "outputs": [
        {
          "output_type": "stream",
          "text": [
            "running\n",
            "running\n",
            "running\n",
            "running\n",
            "running\n",
            "running\n",
            "running\n",
            "running\n",
            "running\n",
            "running\n",
            "thread finished...exiting\n"
          ],
          "name": "stdout"
        }
      ]
    },
    {
      "metadata": {
        "id": "WcJ3sZNx_j5j",
        "colab_type": "code",
        "colab": {
          "base_uri": "https://localhost:8080/",
          "height": 106
        },
        "outputId": "c4b7729b-ceea-4017-db44-8dff12a38c03"
      },
      "cell_type": "code",
      "source": [
        "import threading\n",
        "import time\n",
        "def fun1(a,b):\n",
        "  time.sleep(1)\n",
        "  c = a + b\n",
        "  print(c)\n",
        "\n",
        "thread1 = threading.Thread(target = fun1, args =(12,10))\n",
        "thread1.start()\n",
        "\n",
        "thread2 = threading.Thread(target = fun1, args =(10,17))\n",
        "thread2.start()\n",
        "\n",
        "thread1.join()\n",
        "thread2.join()\n",
        "print(\"Total number of threads \",threading.activeCount())\n",
        "print(\"List of threads \",threading.enumerate())"
      ],
      "execution_count": 3,
      "outputs": [
        {
          "output_type": "stream",
          "text": [
            "22\n",
            "27\n",
            "Total number of threads  5\n",
            "List of threads  [<_MainThread(MainThread, started 139770782795648)>, <Thread(Thread-2, started daemon 139770631231232)>, <Heartbeat(Thread-3, started daemon 139770622838528)>, <HistorySavingThread(IPythonHistorySavingThread, started 139770597660416)>, <ParentPollerUnix(Thread-1, started daemon 139770540218112)>]\n"
          ],
          "name": "stdout"
        }
      ]
    },
    {
      "metadata": {
        "id": "_x5jak_DDFE7",
        "colab_type": "code",
        "colab": {}
      },
      "cell_type": "code",
      "source": [
        ""
      ],
      "execution_count": 0,
      "outputs": []
    },
    {
      "metadata": {
        "id": "TlU58ylMAylB",
        "colab_type": "code",
        "colab": {}
      },
      "cell_type": "code",
      "source": [
        "import threading\n",
        "import time\n",
        "\n",
        "from __future__ import print_function\n",
        "import keras\n",
        "from keras.datasets import fashion_mnist \n",
        "from keras.models import Sequential\n",
        "from keras.layers import Dense, Dropout, Flatten\n",
        "from keras.layers import Conv2D, MaxPooling2D\n",
        "from keras import backend as K\n",
        "\n",
        "# Supress warnig\n",
        "import os \n",
        "os.environ['TF_CPP_MiN_LOG_LEVEL']='2'\n",
        "\n",
        "# Number of classes \n",
        "num_classes = 10\n",
        "\n",
        "# Sizes of batch and # of epochs of data\n",
        "batch_size = 128\n",
        "epochs = 24\n",
        "\n",
        "# Input image dimensions\n",
        "img_rows, img_cols = 28, 28\n",
        "\n",
        "# data, shuffled and split between and test sets\n",
        "(x_train, y_train), (x_test, y_test) = fashion_mnist.load_data()\n",
        "\n",
        "# Deal with format issues between different backends\n",
        "if K.image_data_format() == 'channels_first':\n",
        "  x_train = x_train.reshape(x_train.shape[0], 1, img_rows, img_cols)\n",
        "  x_test = x_test.reshape(x_test.shape[0], 1, img_rows, img_cols)\n",
        "  input_shape = (1, img_rows, img_cols)\n",
        "else:\n",
        "  x_train = x_train.reshape(x_train.shape[0], img_rows, img_cols, 1)\n",
        "  x_test = x_test.reshape(x_test.shape[0], img_rows, img_cols, 1)\n",
        "  input_shape = (img_rows, img_cols, 1)\n",
        "  \n",
        "# Type convert and scale the test and trainig data  \n",
        "x_train = x_train.astype('float32')\n",
        "x_test = x_test.astype('float32')\n",
        "x_train /= 255\n",
        "x_test /=255\n",
        "\n",
        "# Convert class vectors to binary class matrices\n",
        "y_train = keras.utils.to_categorical(y_train, num_classes)\n",
        "y_test = keras.utils.to_categorical(y_test, num_classes)\n",
        "\n",
        "# Define the model\n",
        "model = Sequential()\n",
        "#convolution\n",
        "model.add(Conv2D(32, kernel_size=(3,3), activation='relu', input_shape=input_shape))\n",
        "model.add(MaxPooling2D(pool_size=(2,2)))\n",
        "model.add(Conv2D(32, kernel_size=(3,3), activation='relu'))\n",
        "model.add(MaxPooling2D(pool_size=(2,2)))\n",
        "#categori...\n",
        "model.add(Flatten())\n",
        "model.add(Dense(128, activation='relu'))\n",
        "model.add(Dropout(0.5))\n",
        "model.add(Dense(num_classes, activation='softmax'))\n",
        "\n",
        "# Define compile to minimize categoricl loss, use ada delta optimized\n",
        "model.compile(loss=keras.losses.categorical_crossentropy,\n",
        "             optimizer=keras.optimizers.Adadelta(), metrics=['accuracy'])\n",
        "#Train model and test\n",
        "hist = model.fit(x_train, y_train,\n",
        "                batch_size=batch_size,\n",
        "                epochs=epochs,\n",
        "                verbose=1,\n",
        "                validation_data=(x_test, y_test))\n",
        "\n",
        "# Evaluate the model with the test data to get the scores on \"real\" data.\n",
        "score=model.evaluate(x_test,y_test,verbose=0)\n",
        "print('Test loss:', score[0])\n",
        "print('Tets accuracy',score[1])\n",
        "\n",
        "\n",
        "#  Plot data to see relationships in training and validation data\n",
        "import numpy as np\n",
        "import matplotlib.pyplot as plt\n",
        "epoch_list = list(range(1, len(hist.history['acc']) + 1)) #values for x axis\n",
        "plt.plot(epoch_list, hist.history['acc'], epoch_list, hist.history['val_acc'])\n",
        "plt.legend(('Training Accuracy', 'Validation Accuracy'))\n",
        "plt.show()\n",
        "\n"
      ],
      "execution_count": 0,
      "outputs": []
    }
  ]
}